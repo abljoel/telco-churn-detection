{
 "cells": [
  {
   "cell_type": "markdown",
   "id": "71b38fda-85f4-4aff-ada2-9733b4297085",
   "metadata": {},
   "source": [
    "# Initial Analysis of Telco Churn Dataset"
   ]
  },
  {
   "cell_type": "markdown",
   "id": "cdfeaae0-b161-4bdc-bf48-d11b19584b15",
   "metadata": {},
   "source": [
    "## Imports and Useful Paths"
   ]
  },
  {
   "cell_type": "code",
   "execution_count": 1,
   "id": "73187560-126d-4cda-a6d2-588f656de452",
   "metadata": {},
   "outputs": [],
   "source": [
    "# Helper libraries\n",
    "import warnings\n",
    "\n",
    "# Scientific and visual libraries\n",
    "import numpy as np\n",
    "import pandas as pd\n",
    "import matplotlib.pyplot as plt\n",
    "import seaborn as sns\n",
    "\n",
    "%load_ext autoreload\n",
    "%autoreload 2\n",
    "\n",
    "%matplotlib inline\n",
    "%config InlineBackend.figure_format = 'retina'\n",
    "\n",
    "# Various settings\n",
    "warnings.filterwarnings(\"ignore\")\n",
    "np.set_printoptions(precision=4)\n",
    "sns.set_theme()\n",
    "pd.set_option(\"display.max_rows\", 120)\n",
    "pd.set_option(\"display.max_colwidth\", 40)\n",
    "pd.set_option(\"display.precision\", 4)\n",
    "pd.set_option(\"display.max_columns\", None)"
   ]
  },
  {
   "cell_type": "markdown",
   "id": "dbad93b8-5495-41c9-a125-529006bdf14c",
   "metadata": {},
   "source": [
    "## Getting the Data"
   ]
  },
  {
   "cell_type": "code",
   "execution_count": 2,
   "id": "300a1095-6680-4260-9c21-d92a36beaed9",
   "metadata": {},
   "outputs": [],
   "source": [
    "from churn_detection.paths import EXTERNAL_DATA_DIR"
   ]
  },
  {
   "cell_type": "code",
   "execution_count": 3,
   "id": "1ce584ad-b867-4039-992d-97af46fce737",
   "metadata": {},
   "outputs": [],
   "source": [
    "file_name = \"customer_churn.feather\"\n",
    "churn = pd.read_feather(EXTERNAL_DATA_DIR / file_name)"
   ]
  },
  {
   "cell_type": "markdown",
   "id": "b328281b-fc36-4c4e-8ac3-24e33af127a1",
   "metadata": {},
   "source": [
    "## Data Understanding and Auditing"
   ]
  },
  {
   "cell_type": "markdown",
   "id": "521d64ea-ec4c-4ab8-a313-ee210e82c40a",
   "metadata": {},
   "source": [
    "### Dataset Overview\n",
    "\n",
    "#### Target\n",
    "\n",
    "- **Churn**: Binary labels indicating if the client has canceled the contract (yes/no).\n",
    "\n",
    "#### Services\n",
    "\n",
    "- **PhoneService**: Binary value indicating whether the customer has phone service (yes/no).\n",
    "- **StreamingMovies**: Nominal value indicating if the movie streaming service is enabled (yes/no/no internet).\n",
    "- **StreamingTV**: Nominal value indicating if the TV streaming service is enabled (yes/no/no internet).\n",
    "- **TechSupport**: Nominal value indicating if the customer has tech support (yes/no/no internet).\n",
    "- **OnlineBackup**: Nominal value indicating if the online backup service is enabled (yes/no/no internet).\n",
    "- **OnlineSecurity**: Nominal value indicating if online security is enabled (yes/no/no internet).\n",
    "- **InternetService**: Nominal value indicating the type of internet service (no/fiber/optic).\n",
    "- **MultipleLines**: Nominal value indicating whether the customer has multiple phone lines (yes/no/no phone service).\n",
    "- **DeviceProtection**: Nominal value indicating if the device protection service is enabled (yes/no/no internet).\n",
    "\n",
    "#### Accounts\n",
    "\n",
    "- **customerID**: Nominal value representing the unique ID of the customer.\n",
    "- **PaperlessBilling**: Binary value indicating if the billing is paperless (yes/no).\n",
    "- **Contract**: Nominal value indicating the type of contract (monthly/yearly/two years).\n",
    "- **PaymentMethod**: Nominal value representing the payment method (electronic check, mailed check, bank transfer, credit card).\n",
    "- **tenure**: Integer count representing the number of months since the start of the contract (numeric).\n",
    "\n",
    "#### Charges\n",
    "\n",
    "- **MonthlyCharges**: Continuous value indicating the amount charged monthly (numeric).\n",
    "- **TotalCharges**: Continuous value indicating the total amount charged (numeric).\n",
    "\n",
    "#### Demographics\n",
    "\n",
    "- **gender**: Binary value indicating the gender of the customer (male/female).\n",
    "- **Dependents**: Binary value indicating whether the customer has dependents (yes/no).\n",
    "- **Partner**: Binary value indicating whether the customer lives with a partner (yes/no).\n",
    "- **SeniorCitizen**: Binary value indicating whether the customer is a senior citizen (0/1).\n"
   ]
  },
  {
   "cell_type": "markdown",
   "id": "c82aea29-9fab-4cf5-b3bd-86194e981900",
   "metadata": {},
   "source": [
    "### Dataset Info"
   ]
  },
  {
   "cell_type": "code",
   "execution_count": 4,
   "id": "d607eecf-5def-413d-9c25-9045dc1c5dfb",
   "metadata": {},
   "outputs": [],
   "source": [
    "from churn_detection.utils import display_dataset_info"
   ]
  },
  {
   "cell_type": "code",
   "execution_count": 5,
   "id": "06f0e2a2-5be6-4adc-ab7b-33f09e0a4c04",
   "metadata": {},
   "outputs": [
    {
     "name": "stdout",
     "output_type": "stream",
     "text": [
      "Dataset dimensions: 7043 rows and 21 columns\n",
      "-----------------------------------\n",
      "Attribute set:\n",
      "['customerID', 'gender', 'SeniorCitizen', 'Partner', 'Dependents', 'tenure', 'PhoneService', 'MultipleLines', 'InternetService', 'OnlineSecurity', 'OnlineBackup', 'DeviceProtection', 'TechSupport', 'StreamingTV', 'StreamingMovies', 'Contract', 'PaperlessBilling', 'PaymentMethod', 'MonthlyCharges', 'TotalCharges', 'Churn']\n",
      "-----------------------------------\n",
      "Data types:\n",
      "customerID           object\n",
      "gender               object\n",
      "SeniorCitizen         int64\n",
      "Partner              object\n",
      "Dependents           object\n",
      "tenure                int64\n",
      "PhoneService         object\n",
      "MultipleLines        object\n",
      "InternetService      object\n",
      "OnlineSecurity       object\n",
      "OnlineBackup         object\n",
      "DeviceProtection     object\n",
      "TechSupport          object\n",
      "StreamingTV          object\n",
      "StreamingMovies      object\n",
      "Contract             object\n",
      "PaperlessBilling     object\n",
      "PaymentMethod        object\n",
      "MonthlyCharges      float64\n",
      "TotalCharges         object\n",
      "Churn                object\n",
      "dtype: object\n",
      "-----------------------------------\n",
      "Cardinality in variables:\n",
      "gender -> 2\n",
      "SeniorCitizen -> 2\n",
      "Partner -> 2\n",
      "Dependents -> 2\n",
      "PhoneService -> 2\n",
      "PaperlessBilling -> 2\n",
      "Churn -> 2\n",
      "MultipleLines -> 3\n",
      "TechSupport -> 3\n",
      "StreamingTV -> 3\n",
      "OnlineBackup -> 3\n",
      "DeviceProtection -> 3\n",
      "StreamingMovies -> 3\n",
      "Contract -> 3\n",
      "OnlineSecurity -> 3\n",
      "InternetService -> 3\n",
      "PaymentMethod -> 4\n",
      "tenure -> 73\n",
      "MonthlyCharges -> 1585\n",
      "TotalCharges -> 6531\n",
      "customerID -> 7043\n",
      "-----------------------------------\n",
      "Values in variables:\n",
      "customerID -> 2823-LKABH 3186-AJIEK 5575-GNVDE 7590-VHVEG 8775-CEBBJ ...\n",
      "gender -> Female Male ...\n",
      "SeniorCitizen -> 0 1 ...\n",
      "Partner -> No Yes ...\n",
      "Dependents -> No Yes ...\n",
      "tenure -> 1 2 3 4 72 ...\n",
      "PhoneService -> No Yes ...\n",
      "MultipleLines -> No No phone service Yes ...\n",
      "InternetService -> DSL Fiber optic No ...\n",
      "OnlineSecurity -> No No internet service Yes ...\n",
      "OnlineBackup -> No No internet service Yes ...\n",
      "DeviceProtection -> No No internet service Yes ...\n",
      "TechSupport -> No No internet service Yes ...\n",
      "StreamingTV -> No No internet service Yes ...\n",
      "StreamingMovies -> No No internet service Yes ...\n",
      "Contract -> Month-to-month One year Two year ...\n",
      "PaperlessBilling -> No Yes ...\n",
      "PaymentMethod -> Bank transfer (automatic) Credit card (automatic) Electronic check Mailed check ...\n",
      "MonthlyCharges -> 19.85 19.9 19.95 20.0 20.05 ...\n",
      "TotalCharges ->   19.65 19.75 19.9 20.2 ...\n",
      "Churn -> No Yes ...\n",
      "-----------------------------------\n",
      "Missing values in %:\n",
      "customerID -> 0.0\n",
      "gender -> 0.0\n",
      "SeniorCitizen -> 0.0\n",
      "Partner -> 0.0\n",
      "Dependents -> 0.0\n",
      "tenure -> 0.0\n",
      "PhoneService -> 0.0\n",
      "MultipleLines -> 0.0\n",
      "InternetService -> 0.0\n",
      "OnlineSecurity -> 0.0\n",
      "OnlineBackup -> 0.0\n",
      "DeviceProtection -> 0.0\n",
      "TechSupport -> 0.0\n",
      "StreamingTV -> 0.0\n",
      "StreamingMovies -> 0.0\n",
      "Contract -> 0.0\n",
      "PaperlessBilling -> 0.0\n",
      "PaymentMethod -> 0.0\n",
      "MonthlyCharges -> 0.0\n",
      "TotalCharges -> 0.0\n",
      "Churn -> 0.0\n",
      "-----------------------------------\n",
      "Number of duplicated rows: 0\n"
     ]
    }
   ],
   "source": [
    "display_dataset_info(churn)"
   ]
  },
  {
   "cell_type": "markdown",
   "id": "b4786fbf-dc2c-48c7-ab5b-280d0a6246e0",
   "metadata": {},
   "source": [
    "### ML Related Data Auditing"
   ]
  },
  {
   "cell_type": "markdown",
   "id": "771e2f3f-6b27-47d1-aab5-86177a2b134b",
   "metadata": {},
   "source": [
    "#### Target Preview"
   ]
  },
  {
   "cell_type": "code",
   "execution_count": 6,
   "id": "2723d557-94bf-488a-b42f-bc210e70149b",
   "metadata": {},
   "outputs": [
    {
     "data": {
      "image/png": "[encoded data removed]",
      "text/plain": [
       "<Figure size 640x480 with 1 Axes>"
      ]
     },
     "metadata": {
      "image/png": {
       "height": 448,
       "width": 563
      }
     },
     "output_type": "display_data"
    }
   ],
   "source": [
    "churn.Churn.value_counts().plot.bar();"
   ]
  },
  {
   "cell_type": "code",
   "execution_count": 7,
   "id": "b2c7f3e5-9fb4-4116-bc36-264ea6f4552f",
   "metadata": {},
   "outputs": [
    {
     "data": {
      "text/plain": [
       "Churn\n",
       "No     73.463\n",
       "Yes    26.537\n",
       "Name: proportion, dtype: float64"
      ]
     },
     "execution_count": 7,
     "metadata": {},
     "output_type": "execute_result"
    }
   ],
   "source": [
    "churn.Churn.value_counts(normalize=True) * 100"
   ]
  },
  {
   "cell_type": "markdown",
   "id": "84aaa716-54a3-4c08-8d9d-414705fc599d",
   "metadata": {},
   "source": [
    "### Analysis Outputs\n",
    "\n",
    "- This is not a large dataset but should be interesting enough to build a classifier.\n",
    "- Most variables are categorical (binary, nominal).\n",
    "- Values in many categorical columns have inconsistencies.\n",
    "- Some data types are not inferred correctly: SeniorCitizen and TotalCharges.\n",
    "- customerID has the same number of items as dataset rows, which means it is useless.\n",
    "- All columns don't have the same naming convention.\n",
    "- Target variable is highly imbalaced and has string labels for positive and negative cases."
   ]
  },
  {
   "cell_type": "code",
   "execution_count": null,
   "id": "925765f2-c638-443e-82c4-a2bb6d623ade",
   "metadata": {},
   "outputs": [],
   "source": []
  },
  {
   "cell_type": "code",
   "execution_count": null,
   "id": "fdf45972-16e9-45bd-b18d-29a90e994eb3",
   "metadata": {},
   "outputs": [],
   "source": []
  },
  {
   "cell_type": "code",
   "execution_count": null,
   "id": "886baa39-9be9-4418-81e6-6305b4602edb",
   "metadata": {},
   "outputs": [],
   "source": []
  },
  {
   "cell_type": "code",
   "execution_count": null,
   "id": "3c9e8788-3b04-44c3-a77e-4134b4ac773a",
   "metadata": {},
   "outputs": [],
   "source": []
  }
 ],
 "metadata": {
  "kernelspec": {
   "display_name": "Python 3 (ipykernel)",
   "language": "python",
   "name": "python3"
  },
  "language_info": {
   "codemirror_mode": {
    "name": "ipython",
    "version": 3
   },
   "file_extension": ".py",
   "mimetype": "text/x-python",
   "name": "python",
   "nbconvert_exporter": "python",
   "pygments_lexer": "ipython3",
   "version": "3.11.10"
  }
 },
 "nbformat": 4,
 "nbformat_minor": 5
}
