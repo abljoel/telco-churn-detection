{
 "cells": [
  {
   "cell_type": "markdown",
   "id": "0c60e769-0e38-489c-be05-43303f9ec259",
   "metadata": {},
   "source": [
    "# Model: Logistic Regression"
   ]
  },
  {
   "cell_type": "markdown",
   "id": "99058cb5-13fb-4ae9-9c01-0977eac86a1b",
   "metadata": {},
   "source": [
    "## Imports and Settings"
   ]
  },
  {
   "cell_type": "code",
   "execution_count": 5,
   "id": "726e6e90-5854-47de-9e8b-bb79f22d2943",
   "metadata": {},
   "outputs": [
    {
     "name": "stdout",
     "output_type": "stream",
     "text": [
      "The autoreload extension is already loaded. To reload it, use:\n",
      "  %reload_ext autoreload\n"
     ]
    }
   ],
   "source": [
    "# Helper libraries\n",
    "import warnings\n",
    "from itertools import combinations\n",
    "\n",
    "# Scientific libraries\n",
    "import numpy as np\n",
    "import pandas as pd\n",
    "import seaborn as sns\n",
    "from sklearn.preprocessing import OneHotEncoder, RobustScaler\n",
    "from sklearn.model_selection import train_test_split\n",
    "\n",
    "# Local Imports\n",
    "from churn_detection.utils import get_feature_names\n",
    "from churn_detection.data import load_data\n",
    "from churn_detection.visualization import plot_confusion_table\n",
    "from churn_detection.preprocessing import preprocess_data, split_data\n",
    "from churn_detection.features import (InteractionStrengthExtractor,\n",
    "                                      FeatureConcatenator, \n",
    "                                      RareCategoryEncoder)\n",
    "from churn_detection.models.ml_pipeline import MLPipeline, create_pipeline\n",
    "from churn_detection.paths import PARENT_DIR\n",
    "from churn_detection.config import load_config\n",
    "\n",
    "\n",
    "%load_ext autoreload\n",
    "%autoreload 2\n",
    "\n",
    "%matplotlib inline\n",
    "%config InlineBackend.figure_format = 'retina'\n",
    "\n",
    "# Various settings\n",
    "warnings.filterwarnings(\"ignore\")\n",
    "np.set_printoptions(precision=4)\n",
    "sns.set_theme()\n",
    "pd.set_option(\"display.max_rows\", 120)\n",
    "pd.set_option(\"display.max_colwidth\", 40)\n",
    "pd.set_option(\"display.precision\", 4)\n",
    "pd.set_option(\"display.max_columns\", None)"
   ]
  },
  {
   "cell_type": "markdown",
   "id": "96f57b6c-a69b-4c78-8c1a-99d6f4ad19fe",
   "metadata": {},
   "source": [
    "## Loading and Preparing Data"
   ]
  },
  {
   "cell_type": "code",
   "execution_count": 2,
   "id": "b5eaa2a3-7eb8-4160-bf3f-09cac7305902",
   "metadata": {},
   "outputs": [],
   "source": [
    "churn = load_data()"
   ]
  },
  {
   "cell_type": "code",
   "execution_count": 7,
   "id": "c9791204-bd25-4d54-9603-c10088755c5c",
   "metadata": {},
   "outputs": [],
   "source": [
    "preprocessed_data = preprocess_data(churn)\n",
    "numeric_variables, categorical_variables = get_feature_names(preprocessed_data)"
   ]
  },
  {
   "cell_type": "code",
   "execution_count": 8,
   "id": "70f7e0e4-f206-4b2f-864a-33242585424a",
   "metadata": {},
   "outputs": [],
   "source": [
    "extractor = InteractionStrengthExtractor(\"partner\", \"paymentmethod\", ordinal_encode=True)\n",
    "extractor.fit(preprocessed_data)\n",
    "\n",
    "new_preprocessed_data = extractor.transform(preprocessed_data)\n",
    "strength_feature = extractor.get_strength_col_name()\n",
    "\n",
    "discrete_vars_pairs = list(combinations(categorical_variables, 2))\n",
    "concat_transformer = FeatureConcatenator(feature_pairs=discrete_vars_pairs)\n",
    "concat_preprocessed_data = concat_transformer.transform(new_preprocessed_data)"
   ]
  },
  {
   "cell_type": "code",
   "execution_count": 10,
   "id": "60b3c093-463e-4e7a-aa8d-bd06d951717e",
   "metadata": {},
   "outputs": [],
   "source": [
    "prep_train, prep_test = train_test_split(\n",
    "        concat_preprocessed_data, \n",
    "        test_size=0.2, \n",
    "        random_state=1\n",
    ")\n",
    "\n",
    "X_train, y_train = split_data(prep_train)\n",
    "X_test, y_test = split_data(prep_test)"
   ]
  },
  {
   "cell_type": "code",
   "execution_count": 11,
   "id": "7d5fa072-8999-457c-9b9e-fdf41dcfd904",
   "metadata": {},
   "outputs": [],
   "source": [
    "continuous_set = numeric_variables + [strength_feature]\n",
    "discrete_set = categorical_variables + concat_transformer.get_new_feature_names()"
   ]
  },
  {
   "cell_type": "markdown",
   "id": "fc5740a5-73c4-4a88-b0ff-6d6c4b915a73",
   "metadata": {},
   "source": [
    "## Model Training and Evaluation"
   ]
  },
  {
   "cell_type": "code",
   "execution_count": 12,
   "id": "d0ad81df-59e8-49fb-8322-967e6a2b6dea",
   "metadata": {},
   "outputs": [],
   "source": [
    "config_dir = PARENT_DIR / \"configs\"\n",
    "config = load_config(config_dir / \"config.yaml\")"
   ]
  },
  {
   "cell_type": "code",
   "execution_count": 15,
   "id": "002b7e09-7e61-4476-9a87-1c2f8c6ffed3",
   "metadata": {},
   "outputs": [],
   "source": [
    "config[\"feature_engineering\"][\"params\"][\"numerical\"][\"variables\"] = continuous_set\n",
    "config[\"feature_engineering\"][\"params\"][\"numerical\"][\"steps\"] = [(\"scaler\", RobustScaler())]\n",
    "\n",
    "config[\"feature_engineering\"][\"params\"][\"categorical\"][\"variables\"] = discrete_set\n",
    "config[\"feature_engineering\"][\"params\"][\"categorical\"][\"steps\"] = [\n",
    "        (\"rarecat\", RareCategoryEncoder(tol=0.2)),\n",
    "        (\"catencoder\", OneHotEncoder(drop=\"first\", sparse_output=False, handle_unknown=\"ignore\"))\n",
    "]"
   ]
  },
  {
   "cell_type": "code",
   "execution_count": 17,
   "id": "562778d2-b91f-4859-9348-55ad164d58c3",
   "metadata": {},
   "outputs": [],
   "source": [
    "lr_pipeline = create_pipeline(config)"
   ]
  },
  {
   "cell_type": "code",
   "execution_count": 18,
   "id": "74fce832-73c0-4683-9099-78c76b434272",
   "metadata": {},
   "outputs": [],
   "source": [
    "lr_pipeline.train(X_train, y_train)"
   ]
  },
  {
   "cell_type": "code",
   "execution_count": 20,
   "id": "8347a6c9-05a2-4726-9fb7-98b6995c0d1d",
   "metadata": {},
   "outputs": [
    {
     "name": "stdout",
     "output_type": "stream",
     "text": [
      "Results: {'f1': np.float64(0.6013793103448276), 'recall': np.float64(0.6264367816091954)}\n"
     ]
    }
   ],
   "source": [
    "results = lr_pipeline.evaluate(X_test, y_test)\n",
    "print(f\"Results: {results}\")"
   ]
  },
  {
   "cell_type": "markdown",
   "id": "2e45a5e5-297c-4fb2-8da4-6027fd4842eb",
   "metadata": {},
   "source": [
    "## Model Tuning and Tracking"
   ]
  },
  {
   "cell_type": "code",
   "execution_count": 21,
   "id": "da116fd5-a8b5-469e-b6ea-26416e1e6013",
   "metadata": {},
   "outputs": [],
   "source": [
    "from churn_detection.models.experiment import ExperimentManager"
   ]
  },
  {
   "cell_type": "code",
   "execution_count": 22,
   "id": "cb848372-1be8-41ba-896d-6f11e28190cd",
   "metadata": {},
   "outputs": [],
   "source": [
    "expr_pipeline = create_pipeline(config)\n",
    "expr_manager = ExperimentManager(expr_pipeline, experiment_name=\"churn_logistic_regression\")"
   ]
  },
  {
   "cell_type": "markdown",
   "id": "6510fcf3-3448-44ad-8b2a-8c48194a2649",
   "metadata": {},
   "source": [
    "### Grid Search with Few Parameters"
   ]
  },
  {
   "cell_type": "code",
   "execution_count": 23,
   "id": "4f671ca5-843c-44ad-8c25-0cfbab130424",
   "metadata": {},
   "outputs": [
    {
     "data": {
      "text/plain": [
       "{'C': 10, 'max_iter': 200}"
      ]
     },
     "execution_count": 23,
     "metadata": {},
     "output_type": "execute_result"
    }
   ],
   "source": [
    "param_grid = {\n",
    "    'C': [0.1, 1, 10],\n",
    "    'max_iter': [100, 200, 300]\n",
    "}\n",
    "grid_results = expr_manager.grid_search(\n",
    "    X_train, \n",
    "    y_train, \n",
    "    param_grid, \n",
    "    scoring='recall',\n",
    "    n_jobs=1\n",
    ")\n",
    "grid_results[\"best_params\"]"
   ]
  },
  {
   "cell_type": "markdown",
   "id": "4520a81f-cacc-451c-a4b5-d1902b41ab35",
   "metadata": {},
   "source": [
    "### Grid Search with More Parameters"
   ]
  },
  {
   "cell_type": "code",
   "execution_count": 25,
   "id": "31dac815-440a-4569-83b1-5a2763d3f792",
   "metadata": {},
   "outputs": [
    {
     "data": {
      "text/plain": [
       "{'C': 1000, 'max_iter': 100, 'penalty': 'l1', 'solver': 'liblinear'}"
      ]
     },
     "execution_count": 25,
     "metadata": {},
     "output_type": "execute_result"
    }
   ],
   "source": [
    "param_grid = {\n",
    "    'C': [0.001, 0.01, 0.1, 1, 10, 100, 1000] ,\n",
    "    'max_iter': [100, 200, 300],\n",
    "    'solver': [\"saga\", \"liblinear\"],\n",
    "    'penalty': [\"l1\", \"l2\"]\n",
    "}\n",
    "grid_results = expr_manager.grid_search(\n",
    "    X_train, \n",
    "    y_train, \n",
    "    param_grid, \n",
    "    scoring='recall',\n",
    "    n_jobs=1\n",
    ")\n",
    "grid_results[\"best_params\"]"
   ]
  },
  {
   "cell_type": "code",
   "execution_count": 31,
   "id": "903b0bda-0a6d-4840-9d03-759b08aec7fa",
   "metadata": {
    "scrolled": true
   },
   "outputs": [
    {
     "data": {
      "text/plain": [
       "'churn_logistic_regression_20241222_214048'"
      ]
     },
     "execution_count": 31,
     "metadata": {},
     "output_type": "execute_result"
    }
   ],
   "source": [
    "best_experiment = expr_manager.get_best_experiment()\n",
    "best_experiment[\"experiment_id\"]"
   ]
  },
  {
   "cell_type": "markdown",
   "id": "e5bb7a15-1c20-41e6-b7d8-3cb4333aa881",
   "metadata": {},
   "source": [
    "## Best Model on Test Data"
   ]
  },
  {
   "cell_type": "code",
   "execution_count": 32,
   "id": "64ffc7ee-b6f9-4c24-a8c6-3c369c853b24",
   "metadata": {},
   "outputs": [],
   "source": [
    "expr_manager.apply_best_params(best_experiment[\"experiment_id\"])"
   ]
  },
  {
   "cell_type": "code",
   "execution_count": 33,
   "id": "d4797a62-20a1-414b-ac11-e0c08590a657",
   "metadata": {},
   "outputs": [],
   "source": [
    "expr_manager.base_pipeline.train(X_train, y_train)"
   ]
  },
  {
   "cell_type": "markdown",
   "id": "774e040a-f89a-45cd-80d2-1f8a8c8b4be9",
   "metadata": {},
   "source": [
    "### Final Scores"
   ]
  },
  {
   "cell_type": "code",
   "execution_count": 37,
   "id": "3c01e122-e90d-4e0c-b94f-37f8f2494edf",
   "metadata": {},
   "outputs": [
    {
     "name": "stdout",
     "output_type": "stream",
     "text": [
      "Results: {'f1': np.float64(0.6029609690444145), 'recall': np.float64(0.6436781609195402)}\n"
     ]
    }
   ],
   "source": [
    "results = expr_manager.base_pipeline.evaluate(X_test, y_test)\n",
    "print(f\"Results: {results}\")"
   ]
  },
  {
   "cell_type": "markdown",
   "id": "4dfed894-fda9-43e3-9e0d-59a437b529b1",
   "metadata": {},
   "source": [
    "### Confusion Table on Test Set"
   ]
  },
  {
   "cell_type": "code",
   "execution_count": 38,
   "id": "5219bc72-c7ae-4743-a7b9-899c46787357",
   "metadata": {},
   "outputs": [
    {
     "data": {
      "image/png": "[encoded data removed]",
      "text/plain": [
       "<Figure size 640x480 with 2 Axes>"
      ]
     },
     "metadata": {
      "image/png": {
       "height": 438,
       "width": 510
      }
     },
     "output_type": "display_data"
    }
   ],
   "source": [
    "test_predictions = expr_manager.base_pipeline.predict(X_test)\n",
    "plot_confusion_table(y_test, test_predictions)"
   ]
  },
  {
   "cell_type": "markdown",
   "id": "1caa3282-fffc-440a-9917-7b5f12cb6144",
   "metadata": {},
   "source": [
    "This classifier's skill is better in peformance than previous ones for reaching churned customers."
   ]
  },
  {
   "cell_type": "code",
   "execution_count": null,
   "id": "90a7dc39-b3c2-46e2-9539-757c7126e98d",
   "metadata": {},
   "outputs": [],
   "source": []
  },
  {
   "cell_type": "code",
   "execution_count": null,
   "id": "ab51801e-4e3e-4641-adf0-df2775afe322",
   "metadata": {},
   "outputs": [],
   "source": []
  },
  {
   "cell_type": "code",
   "execution_count": null,
   "id": "18b921e1-5417-4182-a1fa-04df204298d3",
   "metadata": {},
   "outputs": [],
   "source": []
  }
 ],
 "metadata": {
  "kernelspec": {
   "display_name": "Python 3 (ipykernel)",
   "language": "python",
   "name": "python3"
  },
  "language_info": {
   "codemirror_mode": {
    "name": "ipython",
    "version": 3
   },
   "file_extension": ".py",
   "mimetype": "text/x-python",
   "name": "python",
   "nbconvert_exporter": "python",
   "pygments_lexer": "ipython3",
   "version": "3.11.10"
  }
 },
 "nbformat": 4,
 "nbformat_minor": 5
}
