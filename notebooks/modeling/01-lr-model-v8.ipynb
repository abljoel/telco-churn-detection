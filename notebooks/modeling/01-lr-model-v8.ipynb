{
 "cells": [
  {
   "cell_type": "markdown",
   "id": "0c60e769-0e38-489c-be05-43303f9ec259",
   "metadata": {},
   "source": [
    "# Model: Logistic Regression"
   ]
  },
  {
   "cell_type": "markdown",
   "id": "99058cb5-13fb-4ae9-9c01-0977eac86a1b",
   "metadata": {},
   "source": [
    "## Imports and Settings"
   ]
  },
  {
   "cell_type": "code",
   "execution_count": 1,
   "id": "726e6e90-5854-47de-9e8b-bb79f22d2943",
   "metadata": {},
   "outputs": [],
   "source": [
    "# Helper libraries\n",
    "import warnings\n",
    "from itertools import combinations\n",
    "\n",
    "# Scientific libraries\n",
    "import numpy as np\n",
    "import pandas as pd\n",
    "import matplotlib.pyplot as plt\n",
    "import seaborn as sns\n",
    "from sklearn.preprocessing import OneHotEncoder, RobustScaler\n",
    "from sklearn.model_selection import train_test_split\n",
    "from sklearn.metrics import recall_score, f1_score, precision_score\n",
    "\n",
    "# Local Imports\n",
    "from churn_detection.utils import get_feature_names\n",
    "from churn_detection.data import load_data\n",
    "from churn_detection.visualization import plot_confusion_table\n",
    "from churn_detection.preprocessing import preprocess_data, split_data\n",
    "from churn_detection.features import (InteractionStrengthExtractor,\n",
    "                                      FeatureConcatenator, \n",
    "                                      RareCategoryEncoder)\n",
    "from churn_detection.paths import PARENT_DIR\n",
    "from churn_detection.config import load_config\n",
    "from churn_detection.models.ml_pipeline import create_pipeline\n",
    "from churn_detection.models.experiment import ExperimentManager\n",
    "\n",
    "\n",
    "%load_ext autoreload\n",
    "%autoreload 2\n",
    "\n",
    "%matplotlib inline\n",
    "%config InlineBackend.figure_format = 'retina'\n",
    "\n",
    "# Various settings\n",
    "warnings.filterwarnings(\"ignore\")\n",
    "np.set_printoptions(precision=4)\n",
    "sns.set_theme()\n",
    "pd.set_option(\"display.max_rows\", 120)\n",
    "pd.set_option(\"display.max_colwidth\", 40)\n",
    "pd.set_option(\"display.precision\", 4)\n",
    "pd.set_option(\"display.max_columns\", None)"
   ]
  },
  {
   "cell_type": "markdown",
   "id": "96f57b6c-a69b-4c78-8c1a-99d6f4ad19fe",
   "metadata": {},
   "source": [
    "## Loading and Preparing Data"
   ]
  },
  {
   "cell_type": "code",
   "execution_count": 2,
   "id": "b5eaa2a3-7eb8-4160-bf3f-09cac7305902",
   "metadata": {},
   "outputs": [],
   "source": [
    "churn = load_data()"
   ]
  },
  {
   "cell_type": "code",
   "execution_count": 3,
   "id": "c9791204-bd25-4d54-9603-c10088755c5c",
   "metadata": {},
   "outputs": [],
   "source": [
    "preprocessed_data = preprocess_data(churn)\n",
    "numeric_variables, categorical_variables = get_feature_names(preprocessed_data)"
   ]
  },
  {
   "cell_type": "code",
   "execution_count": 4,
   "id": "70f7e0e4-f206-4b2f-864a-33242585424a",
   "metadata": {},
   "outputs": [],
   "source": [
    "extractor = InteractionStrengthExtractor(\"partner\", \"paymentmethod\", ordinal_encode=True)\n",
    "extractor.fit(preprocessed_data)\n",
    "\n",
    "new_preprocessed_data = extractor.transform(preprocessed_data)\n",
    "strength_feature = extractor.get_strength_col_name()\n",
    "\n",
    "discrete_vars_pairs = list(combinations(categorical_variables, 2))\n",
    "concat_transformer = FeatureConcatenator(feature_pairs=discrete_vars_pairs)\n",
    "concat_preprocessed_data = concat_transformer.transform(new_preprocessed_data)"
   ]
  },
  {
   "cell_type": "code",
   "execution_count": 5,
   "id": "60b3c093-463e-4e7a-aa8d-bd06d951717e",
   "metadata": {},
   "outputs": [],
   "source": [
    "prep_train, prep_test = train_test_split(\n",
    "        concat_preprocessed_data, \n",
    "        test_size=0.2, \n",
    "        random_state=1\n",
    ")\n",
    "\n",
    "X_train, y_train = split_data(prep_train)\n",
    "X_test, y_test = split_data(prep_test)"
   ]
  },
  {
   "cell_type": "code",
   "execution_count": 6,
   "id": "7d5fa072-8999-457c-9b9e-fdf41dcfd904",
   "metadata": {},
   "outputs": [],
   "source": [
    "continuous_set = numeric_variables + [strength_feature]\n",
    "discrete_set = categorical_variables + concat_transformer.get_new_feature_names()"
   ]
  },
  {
   "cell_type": "markdown",
   "id": "fc5740a5-73c4-4a88-b0ff-6d6c4b915a73",
   "metadata": {},
   "source": [
    "## Model Configuration and Thresholding"
   ]
  },
  {
   "cell_type": "code",
   "execution_count": 7,
   "id": "d0ad81df-59e8-49fb-8322-967e6a2b6dea",
   "metadata": {},
   "outputs": [],
   "source": [
    "config_dir = PARENT_DIR / \"configs\"\n",
    "config = load_config(config_dir / \"config.yaml\")"
   ]
  },
  {
   "cell_type": "code",
   "execution_count": 8,
   "id": "002b7e09-7e61-4476-9a87-1c2f8c6ffed3",
   "metadata": {},
   "outputs": [],
   "source": [
    "# Numeric Features Configuration\n",
    "config[\"feature_engineering\"][\"params\"][\"numerical\"][\"variables\"] = continuous_set\n",
    "config[\"feature_engineering\"][\"params\"][\"numerical\"][\"steps\"] = [(\"scaler\", RobustScaler(quantile_range=(40, 60)))]\n",
    "\n",
    "# Categorical Features Configuration\n",
    "config[\"feature_engineering\"][\"params\"][\"categorical\"][\"variables\"] = discrete_set\n",
    "config[\"feature_engineering\"][\"params\"][\"categorical\"][\"steps\"] = [\n",
    "        (\"rarecat\", RareCategoryEncoder(tol=0.2)),\n",
    "        (\"catencoder\", OneHotEncoder(drop=\"first\", sparse_output=False, handle_unknown=\"ignore\"))\n",
    "]"
   ]
  },
  {
   "cell_type": "code",
   "execution_count": 9,
   "id": "9dc34989-d23b-4bd5-9f78-17e556a4b126",
   "metadata": {},
   "outputs": [],
   "source": [
    "# Model Configuration\n",
    "config[\"model\"][\"params\"][\"C\"] = 100\n",
    "config[\"model\"][\"params\"][\"max_iter\"] = 100\n",
    "config[\"model\"][\"params\"][\"penalty\"] = \"l1\"\n",
    "config[\"model\"][\"params\"][\"solver\"] = \"liblinear\""
   ]
  },
  {
   "cell_type": "code",
   "execution_count": 10,
   "id": "562778d2-b91f-4859-9348-55ad164d58c3",
   "metadata": {},
   "outputs": [],
   "source": [
    "lr_pipeline = create_pipeline(config)"
   ]
  },
  {
   "cell_type": "code",
   "execution_count": 11,
   "id": "74fce832-73c0-4683-9099-78c76b434272",
   "metadata": {},
   "outputs": [],
   "source": [
    "lr_pipeline.train(X_train, y_train)"
   ]
  },
  {
   "cell_type": "code",
   "execution_count": 12,
   "id": "3d1dcb0d-5d08-4a7b-a42a-e0284eb73207",
   "metadata": {},
   "outputs": [],
   "source": [
    "def explore_thresholds(y_probs, y_test, func, n_samples=10, scores=True, plot=None):\n",
    "    metrics = {\n",
    "        \"f1\": f1_score, \n",
    "        \"recall\": recall_score, \n",
    "        \"precision\": precision_score\n",
    "    }\n",
    "    \n",
    "    thresholds = np.linspace(0, 1, n_samples)\n",
    "    scores = []\n",
    "    for thres in thresholds:\n",
    "        churn = y_probs >= thres\n",
    "        pred = metrics[func](y_test, churn)\n",
    "        scores.append(pred)\n",
    "\n",
    "        if scores:\n",
    "            print(f\"Threshold: {thres:.2f} - {func} Score: {pred:.3f}\")\n",
    "\n",
    "    if plot:\n",
    "        plt.plot(thresholds, scores)\n",
    "        plt.xlabel(\"Thresholds\")\n",
    "        plt.ylabel(\"F1\")\n",
    "        plt.show()"
   ]
  },
  {
   "cell_type": "code",
   "execution_count": 13,
   "id": "7cab0168-3650-48e4-a204-90488d426612",
   "metadata": {},
   "outputs": [],
   "source": [
    "y_probs = lr_pipeline.predict_proba(X_test)[:, 1]"
   ]
  },
  {
   "cell_type": "code",
   "execution_count": 14,
   "id": "cdd6aa9f-65a9-4e80-bf96-81bc16079e59",
   "metadata": {},
   "outputs": [
    {
     "name": "stdout",
     "output_type": "stream",
     "text": [
      "Threshold: 0.00 - f1 Score: 0.396\n",
      "Threshold: 0.03 - f1 Score: 0.462\n",
      "Threshold: 0.06 - f1 Score: 0.502\n",
      "Threshold: 0.10 - f1 Score: 0.523\n",
      "Threshold: 0.13 - f1 Score: 0.551\n",
      "Threshold: 0.16 - f1 Score: 0.563\n",
      "Threshold: 0.19 - f1 Score: 0.578\n",
      "Threshold: 0.23 - f1 Score: 0.584\n",
      "Threshold: 0.26 - f1 Score: 0.594\n",
      "Threshold: 0.29 - f1 Score: 0.602\n",
      "Threshold: 0.32 - f1 Score: 0.600\n",
      "Threshold: 0.35 - f1 Score: 0.601\n",
      "Threshold: 0.39 - f1 Score: 0.601\n",
      "Threshold: 0.42 - f1 Score: 0.602\n",
      "Threshold: 0.45 - f1 Score: 0.605\n",
      "Threshold: 0.48 - f1 Score: 0.614\n",
      "Threshold: 0.52 - f1 Score: 0.598\n",
      "Threshold: 0.55 - f1 Score: 0.590\n",
      "Threshold: 0.58 - f1 Score: 0.571\n",
      "Threshold: 0.61 - f1 Score: 0.557\n",
      "Threshold: 0.65 - f1 Score: 0.520\n",
      "Threshold: 0.68 - f1 Score: 0.478\n",
      "Threshold: 0.71 - f1 Score: 0.425\n",
      "Threshold: 0.74 - f1 Score: 0.365\n",
      "Threshold: 0.77 - f1 Score: 0.301\n",
      "Threshold: 0.81 - f1 Score: 0.197\n",
      "Threshold: 0.84 - f1 Score: 0.087\n",
      "Threshold: 0.87 - f1 Score: 0.017\n",
      "Threshold: 0.90 - f1 Score: 0.006\n",
      "Threshold: 0.94 - f1 Score: 0.000\n",
      "Threshold: 0.97 - f1 Score: 0.000\n",
      "Threshold: 1.00 - f1 Score: 0.000\n"
     ]
    }
   ],
   "source": [
    "explore_thresholds(y_probs, y_test, func=\"f1\", n_samples=32)"
   ]
  },
  {
   "cell_type": "code",
   "execution_count": 15,
   "id": "005d60b1-f291-4d8d-bcdc-e55a6fa1a6f4",
   "metadata": {},
   "outputs": [
    {
     "name": "stdout",
     "output_type": "stream",
     "text": [
      "Threshold: 0.00 - recall Score: 1.000\n",
      "Threshold: 0.03 - recall Score: 0.983\n",
      "Threshold: 0.06 - recall Score: 0.977\n",
      "Threshold: 0.10 - recall Score: 0.966\n",
      "Threshold: 0.13 - recall Score: 0.951\n",
      "Threshold: 0.16 - recall Score: 0.922\n",
      "Threshold: 0.19 - recall Score: 0.902\n",
      "Threshold: 0.23 - recall Score: 0.882\n",
      "Threshold: 0.26 - recall Score: 0.859\n",
      "Threshold: 0.29 - recall Score: 0.845\n",
      "Threshold: 0.32 - recall Score: 0.816\n",
      "Threshold: 0.35 - recall Score: 0.787\n",
      "Threshold: 0.39 - recall Score: 0.750\n",
      "Threshold: 0.42 - recall Score: 0.730\n",
      "Threshold: 0.45 - recall Score: 0.698\n",
      "Threshold: 0.48 - recall Score: 0.675\n",
      "Threshold: 0.52 - recall Score: 0.629\n",
      "Threshold: 0.55 - recall Score: 0.598\n",
      "Threshold: 0.58 - recall Score: 0.549\n",
      "Threshold: 0.61 - recall Score: 0.506\n",
      "Threshold: 0.65 - recall Score: 0.445\n",
      "Threshold: 0.68 - recall Score: 0.382\n",
      "Threshold: 0.71 - recall Score: 0.313\n",
      "Threshold: 0.74 - recall Score: 0.244\n",
      "Threshold: 0.77 - recall Score: 0.187\n",
      "Threshold: 0.81 - recall Score: 0.112\n",
      "Threshold: 0.84 - recall Score: 0.046\n",
      "Threshold: 0.87 - recall Score: 0.009\n",
      "Threshold: 0.90 - recall Score: 0.003\n",
      "Threshold: 0.94 - recall Score: 0.000\n",
      "Threshold: 0.97 - recall Score: 0.000\n",
      "Threshold: 1.00 - recall Score: 0.000\n"
     ]
    }
   ],
   "source": [
    "explore_thresholds(y_probs, y_test, func=\"recall\", n_samples=32)"
   ]
  },
  {
   "cell_type": "code",
   "execution_count": 16,
   "id": "e043ce44-ba3f-42d8-83a4-dad171142369",
   "metadata": {},
   "outputs": [
    {
     "name": "stdout",
     "output_type": "stream",
     "text": [
      "Threshold: 0.00 - precision Score: 0.247\n",
      "Threshold: 0.03 - precision Score: 0.302\n",
      "Threshold: 0.06 - precision Score: 0.338\n",
      "Threshold: 0.10 - precision Score: 0.359\n",
      "Threshold: 0.13 - precision Score: 0.388\n",
      "Threshold: 0.16 - precision Score: 0.405\n",
      "Threshold: 0.19 - precision Score: 0.425\n",
      "Threshold: 0.23 - precision Score: 0.436\n",
      "Threshold: 0.26 - precision Score: 0.454\n",
      "Threshold: 0.29 - precision Score: 0.467\n",
      "Threshold: 0.32 - precision Score: 0.475\n",
      "Threshold: 0.35 - precision Score: 0.486\n",
      "Threshold: 0.39 - precision Score: 0.502\n",
      "Threshold: 0.42 - precision Score: 0.512\n",
      "Threshold: 0.45 - precision Score: 0.534\n",
      "Threshold: 0.48 - precision Score: 0.562\n",
      "Threshold: 0.52 - precision Score: 0.570\n",
      "Threshold: 0.55 - precision Score: 0.583\n",
      "Threshold: 0.58 - precision Score: 0.595\n",
      "Threshold: 0.61 - precision Score: 0.620\n",
      "Threshold: 0.65 - precision Score: 0.625\n",
      "Threshold: 0.68 - precision Score: 0.636\n",
      "Threshold: 0.71 - precision Score: 0.661\n",
      "Threshold: 0.74 - precision Score: 0.720\n",
      "Threshold: 0.77 - precision Score: 0.774\n",
      "Threshold: 0.81 - precision Score: 0.830\n",
      "Threshold: 0.84 - precision Score: 0.800\n",
      "Threshold: 0.87 - precision Score: 0.500\n",
      "Threshold: 0.90 - precision Score: 0.250\n",
      "Threshold: 0.94 - precision Score: 0.000\n",
      "Threshold: 0.97 - precision Score: 0.000\n",
      "Threshold: 1.00 - precision Score: 0.000\n"
     ]
    }
   ],
   "source": [
    "explore_thresholds(y_probs, y_test, func=\"precision\", n_samples=32)"
   ]
  },
  {
   "cell_type": "markdown",
   "id": "76643c4a-97d3-4362-8f11-6220ff2ca88f",
   "metadata": {},
   "source": [
    "We can see that a good tradeoff threshold seems to be 0.39"
   ]
  },
  {
   "cell_type": "markdown",
   "id": "e5bb7a15-1c20-41e6-b7d8-3cb4333aa881",
   "metadata": {},
   "source": [
    "## Best Model on Test Data"
   ]
  },
  {
   "cell_type": "markdown",
   "id": "4dfed894-fda9-43e3-9e0d-59a437b529b1",
   "metadata": {},
   "source": [
    "### Confusion Table on Test Set"
   ]
  },
  {
   "cell_type": "code",
   "execution_count": 17,
   "id": "ef81e68c-8ab3-44a8-9fdc-920a2db8b178",
   "metadata": {},
   "outputs": [
    {
     "data": {
      "image/png": "[encoded data removed]",
      "text/plain": [
       "<Figure size 640x480 with 2 Axes>"
      ]
     },
     "metadata": {
      "image/png": {
       "height": 438,
       "width": 510
      }
     },
     "output_type": "display_data"
    }
   ],
   "source": [
    "test_predictions = (lr_pipeline.predict_proba(X_test)[:, 1] >= 0.39).astype(\"int\")\n",
    "plot_confusion_table(y_test, test_predictions)"
   ]
  },
  {
   "cell_type": "markdown",
   "id": "1caa3282-fffc-440a-9917-7b5f12cb6144",
   "metadata": {},
   "source": [
    "This classifier's skill is better in peformance than previous ones for reaching true churned customers."
   ]
  },
  {
   "cell_type": "code",
   "execution_count": null,
   "id": "90a7dc39-b3c2-46e2-9539-757c7126e98d",
   "metadata": {},
   "outputs": [],
   "source": []
  },
  {
   "cell_type": "code",
   "execution_count": null,
   "id": "ab51801e-4e3e-4641-adf0-df2775afe322",
   "metadata": {},
   "outputs": [],
   "source": []
  },
  {
   "cell_type": "code",
   "execution_count": null,
   "id": "18b921e1-5417-4182-a1fa-04df204298d3",
   "metadata": {},
   "outputs": [],
   "source": []
  }
 ],
 "metadata": {
  "kernelspec": {
   "display_name": "Python 3 (ipykernel)",
   "language": "python",
   "name": "python3"
  },
  "language_info": {
   "codemirror_mode": {
    "name": "ipython",
    "version": 3
   },
   "file_extension": ".py",
   "mimetype": "text/x-python",
   "name": "python",
   "nbconvert_exporter": "python",
   "pygments_lexer": "ipython3",
   "version": "3.11.10"
  }
 },
 "nbformat": 4,
 "nbformat_minor": 5
}
