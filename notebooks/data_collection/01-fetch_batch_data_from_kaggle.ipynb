{
 "cells": [
  {
   "cell_type": "markdown",
   "id": "4ea88240-9b4e-42b4-82f8-a8c198be5cc4",
   "metadata": {},
   "source": [
    "# Fetching Telco Customer Churn Dataset from Kaggle"
   ]
  },
  {
   "cell_type": "code",
   "execution_count": null,
   "id": "9d61626d-2f22-4874-ad65-c61cf929bb93",
   "metadata": {},
   "outputs": [],
   "source": [
    "import warnings\n",
    "import joblib\n",
    "from datetime import datetime\n",
    "from pathlib import Path\n",
    "import subprocess\n",
    "import os\n",
    "import zipfile\n",
    "\n",
    "import pandas as pd\n",
    "\n",
    "%load_ext autoreload\n",
    "%autoreload 2\n",
    "\n",
    "%matplotlib inline\n",
    "%config InlineBackend.figure_format = 'retina'\n",
    "\n",
    "# Various settings\n",
    "warnings.filterwarnings(\"ignore\")\n",
    "pd.set_option(\"display.max_rows\", 120)\n",
    "pd.set_option(\"display.max_colwidth\", 40)\n",
    "pd.set_option(\"display.precision\", 4)\n",
    "pd.set_option(\"display.max_columns\", None)"
   ]
  },
  {
   "cell_type": "markdown",
   "id": "27418fc9-b294-442c-be17-ca118d7217cb",
   "metadata": {},
   "source": [
    "## Experimenting with Python Tools"
   ]
  },
  {
   "cell_type": "code",
   "execution_count": null,
   "id": "3f05edff-b3de-4cb7-8c2b-05094305c03c",
   "metadata": {},
   "outputs": [],
   "source": [
    "# Let's define useful paths"
   ]
  },
  {
   "cell_type": "code",
   "execution_count": null,
   "id": "508cdb92-607e-4cb8-90da-e5f0667acffe",
   "metadata": {},
   "outputs": [],
   "source": [
    "from churn_detection.paths import EXTERNAL_DATA_DIR"
   ]
  },
  {
   "cell_type": "code",
   "execution_count": null,
   "id": "721ac8cf-d5ff-473f-a82c-774f165098b3",
   "metadata": {},
   "outputs": [],
   "source": [
    "CURRENT_DIR = Path().cwd()"
   ]
  },
  {
   "cell_type": "code",
   "execution_count": null,
   "id": "2770f781-6cf8-436c-bebb-f1b33705d1d4",
   "metadata": {},
   "outputs": [],
   "source": [
    "zip_file = Path(\"telco-customer-churn.zip\")\n",
    "csv_file = Path(\"WA_Fn-UseC_-Telco-Customer-Churn.csv\")"
   ]
  },
  {
   "cell_type": "code",
   "execution_count": null,
   "id": "34f09280-55d9-4f00-89b4-735596ff86f5",
   "metadata": {},
   "outputs": [],
   "source": [
    "# Let's download and unzip the dataset using Kaggle package"
   ]
  },
  {
   "cell_type": "code",
   "execution_count": null,
   "id": "1b1b6bc1-ca5e-4d11-8f01-856ecd94d2be",
   "metadata": {},
   "outputs": [],
   "source": [
    "subprocess.run(['kaggle', 'datasets', 'download', '-d', 'blastchar/telco-customer-churn'])"
   ]
  },
  {
   "cell_type": "code",
   "execution_count": null,
   "id": "afff70d7-c453-4c62-af50-02c13f840d0e",
   "metadata": {},
   "outputs": [],
   "source": [
    "with zipfile.ZipFile(zip_file, 'r') as zip_ref:\n",
    "    zip_ref.extractall(CURRENT_DIR)"
   ]
  },
  {
   "cell_type": "code",
   "execution_count": null,
   "id": "097801cc-8b0c-412f-ae98-fa4991b835d1",
   "metadata": {},
   "outputs": [],
   "source": [
    "# Let's read the extracted CSV file\n",
    "data = pd.read_csv(csv_file)  \n",
    "data.head()"
   ]
  },
  {
   "cell_type": "code",
   "execution_count": null,
   "id": "3c052efb-3355-4c70-8879-0b1fa34d717f",
   "metadata": {},
   "outputs": [],
   "source": [
    "# Let's convert it to feather format into data directory\n",
    "data.to_feather(EXTERNAL_DATA_DIR / \"customer_churn.feather\")"
   ]
  },
  {
   "cell_type": "code",
   "execution_count": null,
   "id": "9b67008d-40d4-4e3c-90b3-5875f7942fa8",
   "metadata": {},
   "outputs": [],
   "source": [
    "# Let's remove the downloaded files\n",
    "subprocess.run(['cmd', '/c', 'del', str(zip_file)], check=True)"
   ]
  },
  {
   "cell_type": "code",
   "execution_count": null,
   "id": "eee26d08-466d-46de-8da2-cc3fe9f52f26",
   "metadata": {},
   "outputs": [],
   "source": [
    "subprocess.run(['cmd', '/c', 'del', str(csv_file)], check=True)"
   ]
  },
  {
   "cell_type": "markdown",
   "id": "c83bd05c-7fbb-48a0-9769-72b90230dec9",
   "metadata": {},
   "source": [
    "## Refactoring as Modular Code"
   ]
  },
  {
   "cell_type": "code",
   "execution_count": null,
   "id": "472f6680-a64b-47a3-87ce-4333c193e45e",
   "metadata": {},
   "outputs": [],
   "source": [
    "from churn_detection import data"
   ]
  },
  {
   "cell_type": "code",
   "execution_count": null,
   "id": "2d3447ed-2eae-438f-8ba2-be1d713d0d0d",
   "metadata": {},
   "outputs": [],
   "source": [
    "target_dataset = \"blastchar/telco-customer-churn\""
   ]
  },
  {
   "cell_type": "code",
   "execution_count": null,
   "id": "f06cfe4b-620c-480c-83d1-0836a1bb7ebc",
   "metadata": {},
   "outputs": [],
   "source": [
    "churn_data = data.fetch_batch_data(target_dataset)"
   ]
  },
  {
   "cell_type": "code",
   "execution_count": null,
   "id": "088ddd3d-a3d5-4ae3-bce7-ac7c42c5c886",
   "metadata": {},
   "outputs": [],
   "source": [
    "churn_data.head()"
   ]
  },
  {
   "cell_type": "code",
   "execution_count": null,
   "id": "75f1debb-faa4-4dad-b153-55a892fc6c8a",
   "metadata": {},
   "outputs": [],
   "source": [
    "data.save_batch_data(churn_data)"
   ]
  },
  {
   "cell_type": "code",
   "execution_count": null,
   "id": "332b375e-aa1e-4907-847f-1147a998bfea",
   "metadata": {},
   "outputs": [],
   "source": []
  },
  {
   "cell_type": "code",
   "execution_count": null,
   "id": "9046f2fc-149b-4ed1-a032-dc67e1b61a06",
   "metadata": {},
   "outputs": [],
   "source": []
  },
  {
   "cell_type": "code",
   "execution_count": null,
   "id": "9fa6ed61-3956-4be6-a9e7-6adfdfef0945",
   "metadata": {},
   "outputs": [],
   "source": []
  },
  {
   "cell_type": "code",
   "execution_count": null,
   "id": "265e7d95-4ccd-41cc-8fef-8e19c1ef4dbf",
   "metadata": {},
   "outputs": [],
   "source": []
  },
  {
   "cell_type": "code",
   "execution_count": null,
   "id": "cf654ac3-f12c-4d30-a10f-1471a9494559",
   "metadata": {},
   "outputs": [],
   "source": []
  },
  {
   "cell_type": "code",
   "execution_count": null,
   "id": "b4a054d8-fbae-4f9e-b0fb-197d5a65d25a",
   "metadata": {},
   "outputs": [],
   "source": []
  }
 ],
 "metadata": {
  "kernelspec": {
   "display_name": "Python 3 (ipykernel)",
   "language": "python",
   "name": "python3"
  },
  "language_info": {
   "codemirror_mode": {
    "name": "ipython",
    "version": 3
   },
   "file_extension": ".py",
   "mimetype": "text/x-python",
   "name": "python",
   "nbconvert_exporter": "python",
   "pygments_lexer": "ipython3"
  }
 },
 "nbformat": 4,
 "nbformat_minor": 5
}
