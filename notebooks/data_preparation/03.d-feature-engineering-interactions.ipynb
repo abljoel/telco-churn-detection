{
 "cells": [
  {
   "cell_type": "markdown",
   "id": "91cdb696-acb1-47ff-ba6a-edbb5ec65305",
   "metadata": {},
   "source": [
    "# Feature Engineering for Churn Detection"
   ]
  },
  {
   "cell_type": "markdown",
   "id": "1c48b304-6c84-4c69-bbfc-99e38de1f274",
   "metadata": {},
   "source": [
    "## Imports and Settings"
   ]
  },
  {
   "cell_type": "code",
   "execution_count": 1,
   "id": "ddd8eee9-b0a3-490b-aaea-8647bbb19573",
   "metadata": {},
   "outputs": [],
   "source": [
    "# Helper libraries\n",
    "import warnings\n",
    "from itertools import combinations\n",
    "\n",
    "# Scientific libraries\n",
    "import numpy as np\n",
    "import pandas as pd\n",
    "import seaborn as sns\n",
    "from sklearn.preprocessing import OneHotEncoder, RobustScaler, StandardScaler\n",
    "from sklearn.model_selection import train_test_split\n",
    "from sklearn.linear_model import LogisticRegression\n",
    "from sklearn.pipeline import Pipeline\n",
    "from sklearn.feature_selection import SelectKBest, f_classif\n",
    "from sklearn.metrics import recall_score\n",
    "\n",
    "# Local Imports\n",
    "from churn_detection.utils import get_feature_names\n",
    "from churn_detection.data import load_data\n",
    "from churn_detection.visualization import plot_confusion_table, plot_pie\n",
    "from churn_detection.preprocessing import preprocess_data, split_data\n",
    "from churn_detection.evaluation import display_clf_report, validate_model_with_cv\n",
    "from churn_detection.features import ColumnPreprocessor, Transformation, engineer_features, create_pipe\n",
    "\n",
    "\n",
    "%load_ext autoreload\n",
    "%autoreload 2\n",
    "\n",
    "%matplotlib inline\n",
    "%config InlineBackend.figure_format = 'retina'\n",
    "\n",
    "# Various settings\n",
    "warnings.filterwarnings(\"ignore\")\n",
    "np.set_printoptions(precision=4)\n",
    "sns.set_theme()\n",
    "pd.set_option(\"display.max_rows\", 120)\n",
    "pd.set_option(\"display.max_colwidth\", 40)\n",
    "pd.set_option(\"display.precision\", 4)\n",
    "pd.set_option(\"display.max_columns\", None)"
   ]
  },
  {
   "cell_type": "markdown",
   "id": "bba26393-abd0-4719-adcb-c2bff9fd4bb5",
   "metadata": {},
   "source": [
    "## Loading and Preparing Data"
   ]
  },
  {
   "cell_type": "code",
   "execution_count": 2,
   "id": "98f1bced-78e8-4bea-aa3c-ce34bb52342d",
   "metadata": {},
   "outputs": [],
   "source": [
    "churn = load_data()"
   ]
  },
  {
   "cell_type": "code",
   "execution_count": 3,
   "id": "28cc323e-5edd-4a9e-b708-75ce24603e9e",
   "metadata": {},
   "outputs": [],
   "source": [
    "preprocessed_data = preprocess_data(churn)\n",
    "numeric_variables, categorical_variables = get_feature_names(preprocessed_data)"
   ]
  },
  {
   "cell_type": "markdown",
   "id": "2ac1c29f-c3f9-4668-aa4c-4ecc5ca3ea92",
   "metadata": {},
   "source": [
    "## Feature Engineering Strategies"
   ]
  },
  {
   "cell_type": "markdown",
   "id": "610ed349-da45-43c6-abc8-f74a3ad67a97",
   "metadata": {},
   "source": [
    "### Interaction Features\n",
    "\n",
    "**Category Concatenation**:<br>\n",
    "Let's concatenate two categorical features into a single categorical feature that represents all unique combinations of these two.<br>\n",
    "This kind of strategy can lead to coincidental patterns, but it's a good idea to test it because it's easy to implement."
   ]
  },
  {
   "cell_type": "code",
   "execution_count": 4,
   "id": "4a354c28-7622-46e4-ad3a-c9a266ea10d7",
   "metadata": {},
   "outputs": [],
   "source": [
    "from churn_detection.features import FeatureConcatenator"
   ]
  },
  {
   "cell_type": "code",
   "execution_count": 5,
   "id": "b4daf0ce-1d53-4028-bddc-2871c2e29be0",
   "metadata": {},
   "outputs": [],
   "source": [
    "# Example with multiplelines and paymentmethod\n",
    "feature_pairs = [(\"multiplelines\", \"paymentmethod\")]\n",
    "concat_transformer = FeatureConcatenator(feature_pairs=feature_pairs)"
   ]
  },
  {
   "cell_type": "code",
   "execution_count": 6,
   "id": "a1b4d3fd-7557-4b59-9007-547312eee4c9",
   "metadata": {},
   "outputs": [],
   "source": [
    "new_preprocessed_data = concat_transformer.transform(preprocessed_data)"
   ]
  },
  {
   "cell_type": "markdown",
   "id": "86218f4c-b9dc-4b15-b4b3-c92e4b0ae744",
   "metadata": {},
   "source": [
    "Since this situation leads to an increase in the number of categories as well as rare categories, it makes sense to handle them in the feature transformation pipeline."
   ]
  },
  {
   "cell_type": "code",
   "execution_count": 7,
   "id": "f5724ee2-2083-4130-a10c-53e30a4ac97c",
   "metadata": {},
   "outputs": [],
   "source": [
    "from churn_detection.features import RareCategoryEncoder"
   ]
  },
  {
   "cell_type": "code",
   "execution_count": 8,
   "id": "1107db2b-e16e-47e0-8bdc-5bb2c9b22fb5",
   "metadata": {},
   "outputs": [],
   "source": [
    "discrete_vars_pairs = list(combinations(categorical_variables, 2))\n",
    "concat_transformer = FeatureConcatenator(feature_pairs=discrete_vars_pairs)\n",
    "new_preprocessed_data = concat_transformer.transform(preprocessed_data)"
   ]
  },
  {
   "cell_type": "code",
   "execution_count": 9,
   "id": "bcac82b7-b906-463f-bf7f-8b6be48b9ccd",
   "metadata": {},
   "outputs": [],
   "source": [
    "multimodal_set = numeric_variables[:-1] \n",
    "skewed_set = [\"totalcharges\"] \n",
    "discrete_set = categorical_variables + concat_transformer.get_new_feature_names()"
   ]
  },
  {
   "cell_type": "code",
   "execution_count": 10,
   "id": "abd0b18e-bf98-43d6-91e7-b47ca8f0a000",
   "metadata": {},
   "outputs": [],
   "source": [
    "DISCRETE_FEATURES = {\n",
    "    \"name\": \"discrete\", \"variables\": discrete_set,\n",
    "    \"steps\": [\n",
    "        (\"rarecat\", RareCategoryEncoder(tol=0.2)),\n",
    "        (\"catencoder\", OneHotEncoder(drop=\"first\", sparse_output=False, handle_unknown=\"ignore\"))\n",
    "    ],\n",
    "}\n",
    "MULTIMODAL_FEATURES = {\n",
    "    \"name\": \"multimod\", \"variables\": multimodal_set,\n",
    "    \"steps\": [(\"stdscaler\", StandardScaler())],\n",
    "}\n",
    "SKEWED_FEATURES = {\n",
    "    \"name\": \"skewed\", \"variables\": skewed_set,\n",
    "    \"steps\": [(\"robustscaler\", RobustScaler(quantile_range=(40, 60)))],\n",
    "}\n",
    "\n",
    "pipeline = ColumnPreprocessor()\n",
    "pipeline.add_transformation(\n",
    "    Transformation(**MULTIMODAL_FEATURES)\n",
    ")\n",
    "pipeline.add_transformation(\n",
    "    Transformation(**SKEWED_FEATURES)\n",
    ")\n",
    "pipeline.add_transformation(\n",
    "    Transformation(**DISCRETE_FEATURES)\n",
    ")\n",
    "\n",
    "prep_train, prep_test = train_test_split(\n",
    "        new_preprocessed_data, \n",
    "        test_size=0.2, \n",
    "        random_state=1\n",
    ")"
   ]
  },
  {
   "cell_type": "code",
   "execution_count": 11,
   "id": "30d094cc-8490-4597-bab4-c54b6b7d05a0",
   "metadata": {},
   "outputs": [],
   "source": [
    "X_train, y_train = split_data(prep_train)\n",
    "\n",
    "reduce_prep_pipe = Pipeline(steps=[\n",
    "    ('processor', pipeline.create_preprocessor()),\n",
    "    ('reducer', SelectKBest(k=\"all\", score_func=f_classif)),     \n",
    "])"
   ]
  },
  {
   "cell_type": "code",
   "execution_count": 12,
   "id": "949e5ec7-ea35-436b-9277-a4f15b375dba",
   "metadata": {},
   "outputs": [
    {
     "data": {
      "text/plain": [
       "(5634, 256)"
      ]
     },
     "execution_count": 12,
     "metadata": {},
     "output_type": "execute_result"
    }
   ],
   "source": [
    "# Resulting feature space:\n",
    "reduce_prep_pipe.fit_transform(X_train, y_train).shape"
   ]
  },
  {
   "cell_type": "code",
   "execution_count": null,
   "id": "183510bd-903d-4251-976a-02c80db89863",
   "metadata": {},
   "outputs": [],
   "source": []
  },
  {
   "cell_type": "code",
   "execution_count": null,
   "id": "9cddcb31-5e76-44ce-94d1-c6628f1e9550",
   "metadata": {},
   "outputs": [],
   "source": []
  },
  {
   "cell_type": "code",
   "execution_count": null,
   "id": "42f5bb2e-add4-48cf-a30c-5576e4789c1d",
   "metadata": {},
   "outputs": [],
   "source": []
  }
 ],
 "metadata": {
  "kernelspec": {
   "display_name": "Python 3 (ipykernel)",
   "language": "python",
   "name": "python3"
  },
  "language_info": {
   "codemirror_mode": {
    "name": "ipython",
    "version": 3
   },
   "file_extension": ".py",
   "mimetype": "text/x-python",
   "name": "python",
   "nbconvert_exporter": "python",
   "pygments_lexer": "ipython3",
   "version": "3.11.10"
  }
 },
 "nbformat": 4,
 "nbformat_minor": 5
}
