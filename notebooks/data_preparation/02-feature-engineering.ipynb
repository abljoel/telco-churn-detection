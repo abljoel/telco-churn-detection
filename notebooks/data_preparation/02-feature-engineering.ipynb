{
 "cells": [
  {
   "cell_type": "markdown",
   "id": "91cdb696-acb1-47ff-ba6a-edbb5ec65305",
   "metadata": {},
   "source": [
    "# Feature Engineering for Churn Detection"
   ]
  },
  {
   "cell_type": "markdown",
   "id": "1c48b304-6c84-4c69-bbfc-99e38de1f274",
   "metadata": {},
   "source": [
    "## Imports and Settings"
   ]
  },
  {
   "cell_type": "code",
   "execution_count": 1,
   "id": "ddd8eee9-b0a3-490b-aaea-8647bbb19573",
   "metadata": {},
   "outputs": [],
   "source": [
    "# Helper libraries\n",
    "import warnings\n",
    "\n",
    "# Scientific libraries\n",
    "import numpy as np\n",
    "import pandas as pd\n",
    "import seaborn as sns\n",
    "from sklearn.preprocessing import OneHotEncoder, StandardScaler\n",
    "\n",
    "# Local Imports\n",
    "from churn_detection.utils import get_feature_names\n",
    "from churn_detection.data import load_data\n",
    "from churn_detection.preprocessing import preprocess_data, split_data\n",
    "from churn_detection.features import ColumnPreprocessor, Transformation\n",
    "\n",
    "\n",
    "%load_ext autoreload\n",
    "%autoreload 2\n",
    "\n",
    "%matplotlib inline\n",
    "%config InlineBackend.figure_format = 'retina'\n",
    "\n",
    "# Various settings\n",
    "warnings.filterwarnings(\"ignore\")\n",
    "np.set_printoptions(precision=4)\n",
    "sns.set_theme()\n",
    "pd.set_option(\"display.max_rows\", 120)\n",
    "pd.set_option(\"display.max_colwidth\", 40)\n",
    "pd.set_option(\"display.precision\", 4)\n",
    "pd.set_option(\"display.max_columns\", None)"
   ]
  },
  {
   "cell_type": "markdown",
   "id": "bba26393-abd0-4719-adcb-c2bff9fd4bb5",
   "metadata": {},
   "source": [
    "## Loading and Preparing Data"
   ]
  },
  {
   "cell_type": "code",
   "execution_count": 2,
   "id": "98f1bced-78e8-4bea-aa3c-ce34bb52342d",
   "metadata": {},
   "outputs": [],
   "source": [
    "churn = load_data()"
   ]
  },
  {
   "cell_type": "code",
   "execution_count": 3,
   "id": "28cc323e-5edd-4a9e-b708-75ce24603e9e",
   "metadata": {},
   "outputs": [],
   "source": [
    "preprocessed_data = preprocess_data(churn)\n",
    "numeric_variables, categorical_variables = get_feature_names(preprocessed_data)\n",
    "\n",
    "prep_train, prep_test = train_test_split(\n",
    "    preprocessed_data, \n",
    "    test_size=0.2, \n",
    "    random_state=1\n",
    ")\n",
    "\n",
    "X_train, y_train = split_data(prep_train)\n",
    "X_test, y_test = split_data(prep_test)"
   ]
  },
  {
   "cell_type": "markdown",
   "id": "2ac1c29f-c3f9-4668-aa4c-4ecc5ca3ea92",
   "metadata": {},
   "source": [
    "## Feature Engineering Strategies"
   ]
  },
  {
   "cell_type": "code",
   "execution_count": 4,
   "id": "94d5c8e0-e9b4-4d32-9e34-ab2081be006e",
   "metadata": {},
   "outputs": [],
   "source": [
    "DISCRETE_FEATURES = {\n",
    "    \"name\": \"discrete\", \"variables\": categorical_variables,\n",
    "    \"steps\": [(\"encoder\", OneHotEncoder(drop=\"if_binary\", sparse_output=False))],\n",
    "}\n",
    "\n",
    "CONTINUOUS_FEATURES = {\n",
    "    \"name\": \"bimodal\", \"variables\": numeric_variables,\n",
    "    \"steps\": [(\"dummy\", StandardScaler())],\n",
    "}"
   ]
  },
  {
   "cell_type": "code",
   "execution_count": 5,
   "id": "a5f9e715-1f14-43e2-99b3-637fd299dc20",
   "metadata": {},
   "outputs": [],
   "source": [
    "pipeline = ColumnPreprocessor()\n",
    "\n",
    "pipeline.add_transformation(\n",
    "    Transformation(**DISCRETE_FEATURES)\n",
    ")\n",
    "\n",
    "pipeline.add_transformation(\n",
    "    Transformation(**CONTINUOUS_FEATURES)\n",
    ")"
   ]
  },
  {
   "cell_type": "code",
   "execution_count": null,
   "id": "ae3780cc-5832-4d30-b212-48e764b3bcf0",
   "metadata": {},
   "outputs": [],
   "source": []
  },
  {
   "cell_type": "code",
   "execution_count": null,
   "id": "4a354c28-7622-46e4-ad3a-c9a266ea10d7",
   "metadata": {},
   "outputs": [],
   "source": []
  },
  {
   "cell_type": "code",
   "execution_count": null,
   "id": "008fda69-95f0-4be6-a694-38637dab74a6",
   "metadata": {},
   "outputs": [],
   "source": []
  },
  {
   "cell_type": "code",
   "execution_count": null,
   "id": "63d93f90-d4a8-4f8b-806d-5d03f9b0c8d8",
   "metadata": {},
   "outputs": [],
   "source": []
  },
  {
   "cell_type": "code",
   "execution_count": null,
   "id": "fdc3784f-9442-4a41-9fcd-df303303dee6",
   "metadata": {},
   "outputs": [],
   "source": []
  },
  {
   "cell_type": "code",
   "execution_count": null,
   "id": "6c6897b0-2a00-4b7e-8992-871ae716bc58",
   "metadata": {},
   "outputs": [],
   "source": []
  },
  {
   "cell_type": "code",
   "execution_count": null,
   "id": "96e01418-0d48-42f4-9111-a12c5bb62d9d",
   "metadata": {},
   "outputs": [],
   "source": []
  },
  {
   "cell_type": "code",
   "execution_count": null,
   "id": "1cbe3605-3162-4167-8af7-8255cdc06a04",
   "metadata": {},
   "outputs": [],
   "source": []
  },
  {
   "cell_type": "code",
   "execution_count": null,
   "id": "7aaddf40-b299-4f41-b45f-0cb4ab6e1dcc",
   "metadata": {},
   "outputs": [],
   "source": []
  },
  {
   "cell_type": "code",
   "execution_count": null,
   "id": "5b5a3bcf-4685-49bb-9619-687a6686e96a",
   "metadata": {},
   "outputs": [],
   "source": []
  },
  {
   "cell_type": "code",
   "execution_count": null,
   "id": "06b666df-01c0-4a7a-bd58-a910f0b778e5",
   "metadata": {},
   "outputs": [],
   "source": []
  },
  {
   "cell_type": "code",
   "execution_count": null,
   "id": "a85f57e0-a98e-4e22-b9ca-81592cf2ac4c",
   "metadata": {},
   "outputs": [],
   "source": []
  },
  {
   "cell_type": "code",
   "execution_count": null,
   "id": "7959a47d-4fbd-4d49-be0b-648da15dab0d",
   "metadata": {},
   "outputs": [],
   "source": []
  },
  {
   "cell_type": "code",
   "execution_count": null,
   "id": "b728440d-ce81-46f8-8b28-a34ff4e06e61",
   "metadata": {},
   "outputs": [],
   "source": []
  },
  {
   "cell_type": "code",
   "execution_count": null,
   "id": "33f070a2-90a4-4d96-b87b-0ad192a2be9d",
   "metadata": {},
   "outputs": [],
   "source": []
  },
  {
   "cell_type": "code",
   "execution_count": null,
   "id": "b4d2cac1-5cfd-4f6d-afa5-a6909f0b4679",
   "metadata": {},
   "outputs": [],
   "source": []
  },
  {
   "cell_type": "code",
   "execution_count": null,
   "id": "37f8503a-0ad9-4bfb-b18e-25b29e4af8df",
   "metadata": {},
   "outputs": [],
   "source": []
  },
  {
   "cell_type": "code",
   "execution_count": null,
   "id": "5893cff1-6c9e-48d6-a03f-820f8240e98b",
   "metadata": {},
   "outputs": [],
   "source": []
  },
  {
   "cell_type": "code",
   "execution_count": null,
   "id": "88b8f5ae-8af6-40c8-abbe-d06ef99bf5d8",
   "metadata": {},
   "outputs": [],
   "source": []
  },
  {
   "cell_type": "code",
   "execution_count": null,
   "id": "664fbce5-4749-4ad6-9e70-1269aed9a76b",
   "metadata": {},
   "outputs": [],
   "source": []
  },
  {
   "cell_type": "code",
   "execution_count": null,
   "id": "d2bed408-7ad5-4638-a064-166abda16d25",
   "metadata": {},
   "outputs": [],
   "source": []
  },
  {
   "cell_type": "code",
   "execution_count": null,
   "id": "5dd8eeb7-0437-4ccb-aa9b-cf6ff93af2b9",
   "metadata": {},
   "outputs": [],
   "source": []
  },
  {
   "cell_type": "code",
   "execution_count": null,
   "id": "42f5bb2e-add4-48cf-a30c-5576e4789c1d",
   "metadata": {},
   "outputs": [],
   "source": []
  }
 ],
 "metadata": {
  "kernelspec": {
   "display_name": "Python 3 (ipykernel)",
   "language": "python",
   "name": "python3"
  },
  "language_info": {
   "codemirror_mode": {
    "name": "ipython",
    "version": 3
   },
   "file_extension": ".py",
   "mimetype": "text/x-python",
   "name": "python",
   "nbconvert_exporter": "python",
   "pygments_lexer": "ipython3",
   "version": "3.11.10"
  }
 },
 "nbformat": 4,
 "nbformat_minor": 5
}
